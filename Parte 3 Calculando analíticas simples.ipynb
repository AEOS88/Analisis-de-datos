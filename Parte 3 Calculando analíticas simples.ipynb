{
 "cells": [
  {
   "cell_type": "code",
   "execution_count": 1,
   "metadata": {},
   "outputs": [],
   "source": [
    "import pandas as pd\n",
    "from datasets import load_dataset\n"
   ]
  },
  {
   "cell_type": "code",
   "execution_count": 2,
   "metadata": {},
   "outputs": [],
   "source": [
    "dataset = load_dataset(\"mstz/heart_failure\")"
   ]
  },
  {
   "cell_type": "code",
   "execution_count": 3,
   "metadata": {},
   "outputs": [],
   "source": [
    "data = dataset[\"train\"]"
   ]
  },
  {
   "cell_type": "markdown",
   "metadata": {},
   "source": [
    "# Convertir la estructura Dataset en un DataFrame de Pandas usando pd.DataFrame."
   ]
  },
  {
   "cell_type": "code",
   "execution_count": 4,
   "metadata": {},
   "outputs": [],
   "source": [
    "df = pd.DataFrame(data)"
   ]
  },
  {
   "cell_type": "markdown",
   "metadata": {},
   "source": [
    "# Separar el dataframe en dos diferentes, uno conteniendo las filas con personas que perecieron (is_dead=1) y otro con el complemento."
   ]
  },
  {
   "cell_type": "code",
   "execution_count": 5,
   "metadata": {},
   "outputs": [],
   "source": [
    "df_perecidos = df[df['is_dead'] == 1]\n",
    "df_no_perecidos = df[df['is_dead'] == 0]"
   ]
  },
  {
   "cell_type": "markdown",
   "metadata": {},
   "source": [
    "# Calcular los promedios de las edades de cada dataset e imprimir."
   ]
  },
  {
   "cell_type": "code",
   "execution_count": 6,
   "metadata": {},
   "outputs": [
    {
     "name": "stdout",
     "output_type": "stream",
     "text": [
      "Promedio de Edad para personas que perecieron: 65.20833333333333\n",
      "Promedio de Edad para personas que no perecieron: 58.758620689655174\n"
     ]
    }
   ],
   "source": [
    "promedio_edad_perecidos = df_perecidos['age'].mean()\n",
    "promedio_edad_no_perecidos = df_no_perecidos['age'].mean()\n",
    "\n",
    "print(\"Promedio de Edad para personas que perecieron:\", promedio_edad_perecidos)\n",
    "print(\"Promedio de Edad para personas que no perecieron:\", promedio_edad_no_perecidos)"
   ]
  },
  {
   "cell_type": "markdown",
   "metadata": {},
   "source": [
    "# Verificar que los tipos de datos son correctos en cada colúmna (por ejemplo que no existan colúmnas numéricas en formato de cadena)."
   ]
  },
  {
   "cell_type": "code",
   "execution_count": 7,
   "metadata": {},
   "outputs": [
    {
     "name": "stdout",
     "output_type": "stream",
     "text": [
      "Tipos de datos en cada columna:\n",
      "age                                                  int64\n",
      "has_anaemia                                           bool\n",
      "creatinine_phosphokinase_concentration_in_blood    float64\n",
      "has_diabetes                                          bool\n",
      "heart_ejection_fraction                            float64\n",
      "has_high_blood_pressure                               bool\n",
      "platelets_concentration_in_blood                   float64\n",
      "serum_creatinine_concentration_in_blood            float64\n",
      "serum_sodium_concentration_in_blood                float64\n",
      "is_male                                               bool\n",
      "is_smoker                                             bool\n",
      "days_in_study                                        int64\n",
      "is_dead                                              int64\n",
      "dtype: object\n"
     ]
    }
   ],
   "source": [
    "tipos_de_datos = df.dtypes\n",
    "print(\"Tipos de datos en cada columna:\")\n",
    "print(tipos_de_datos)"
   ]
  },
  {
   "cell_type": "markdown",
   "metadata": {},
   "source": [
    "# Calcular la cantidad de hombres fumadores vs mujeres fumadoras (usando agregaciones en Pandas)."
   ]
  },
  {
   "cell_type": "code",
   "execution_count": null,
   "metadata": {},
   "outputs": [],
   "source": [
    "df_fumadores = df[df['smoking'] == 'Yes']\n",
    "agregacion_fumadores_por_genero = df_fumadores.groupby('sex')['sex'].count()\n",
    "\n",
    "print(\"\\nCantidad de hombres fumadores vs mujeres fumadoras:\")\n",
    "print(agregacion_fumadores_por_genero)"
   ]
  }
 ],
 "metadata": {
  "kernelspec": {
   "display_name": "Python 3",
   "language": "python",
   "name": "python3"
  },
  "language_info": {
   "codemirror_mode": {
    "name": "ipython",
    "version": 3
   },
   "file_extension": ".py",
   "mimetype": "text/x-python",
   "name": "python",
   "nbconvert_exporter": "python",
   "pygments_lexer": "ipython3",
   "version": "3.11.4"
  }
 },
 "nbformat": 4,
 "nbformat_minor": 2
}
