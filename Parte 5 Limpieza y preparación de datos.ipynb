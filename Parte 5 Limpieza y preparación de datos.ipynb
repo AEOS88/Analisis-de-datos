{
 "cells": [
  {
   "cell_type": "code",
   "execution_count": 17,
   "metadata": {},
   "outputs": [],
   "source": [
    "import requests\n",
    "import pandas as pd\n",
    "import numpy as np"
   ]
  },
  {
   "cell_type": "code",
   "execution_count": 18,
   "metadata": {},
   "outputs": [
    {
     "name": "stdout",
     "output_type": "stream",
     "text": [
      "Datos descargados exitosamente como heart_failure_dataset.csv\n"
     ]
    }
   ],
   "source": [
    "\n",
    "def descargar_y_guardar_csv(url, nombre_archivo):\n",
    "    # Realizar el GET request\n",
    "    respuesta = requests.get(url)\n",
    "\n",
    "    # Verificar si la descarga fue exitosa (código de estado 200)\n",
    "    if respuesta.status_code == 200:\n",
    "        # Escribir la respuesta en un archivo CSV\n",
    "        with open(nombre_archivo, 'w', encoding='utf-8') as archivo:\n",
    "            archivo.write(respuesta.text)\n",
    "        print(f\"Datos descargados exitosamente como {nombre_archivo}\")\n",
    "    else:\n",
    "        print(f\"Error al descargar los datos. Código de estado: {respuesta.status_code}\")\n",
    "\n",
    "# URL de los datos\n",
    "url_datos = \"https://huggingface.co/datasets/mstz/heart_failure/raw/main/heart_failure_clinical_records_dataset.csv\"\n",
    "\n",
    "# Llamar a la función para descargar los datos\n",
    "descargar_y_guardar_csv(url_datos, \"heart_failure_dataset.csv\")\n"
   ]
  },
  {
   "cell_type": "code",
   "execution_count": 19,
   "metadata": {},
   "outputs": [],
   "source": [
    "dataframe = pd.read_csv('heart_failure_dataset.csv')"
   ]
  },
  {
   "cell_type": "code",
   "execution_count": 20,
   "metadata": {},
   "outputs": [
    {
     "name": "stdout",
     "output_type": "stream",
     "text": [
      "Procesamiento completado. Resultado guardado como 'resultado_procesado.csv'.\n"
     ]
    }
   ],
   "source": [
    "import pandas as pd\n",
    "# 1) Verificar que no existan valores faltantes\n",
    "def procesar_dataframe(dataframe):\n",
    "    if dataframe['age'].isnull().any():\n",
    "        print(\"¡Advertencia! La columna 'age' contiene valores faltantes.\")\n",
    "        dataframe = dataframe.dropna(subset=['age'])\n",
    "\n",
    "\n",
    "    # 2) Verificar que no existan filas repetidas\n",
    "    if dataframe.duplicated().any():\n",
    "        print(\"¡Advertencia! El DataFrame contiene filas duplicadas.\")\n",
    "        dataframe = dataframe.drop_duplicates()\n",
    "\n",
    "    # 3) Verificar si existen valores atípicos y eliminarlos\n",
    "    # (Podemos personalizar esta parte según nuestros criterios para detectar valores atípicos)\n",
    "    cuartil_1 = dataframe['age'].quantile(0.25)\n",
    "    cuartil_3 = dataframe['age'].quantile(0.75)\n",
    "    rango_intercuartilico = 1.5 * (cuartil_3 - cuartil_1)\n",
    "    dataframe = dataframe[(dataframe['age'] >= (cuartil_1 - rango_intercuartilico)) & (dataframe['age'] <= (cuartil_3 + rango_intercuartilico))]\n",
    "\n",
    "    # 4) Crear una columna que categorice por edades\n",
    "    bins = [0, 12, 19, 39, 59, float('inf')]\n",
    "    labels = ['Niño', 'Adolescente', 'Joven Adulto', 'Adulto', 'Adulto Mayor']\n",
    "    dataframe['Categoria_Edad'] = pd.cut(dataframe['age'], bins=bins, labels=labels, right=False)\n",
    "\n",
    "    # 5) Guardar el resultado como CSV\n",
    "    dataframe.to_csv('resultado_procesado.csv', index=False)\n",
    "    print(\"Procesamiento completado. Resultado guardado como 'resultado_procesado.csv'.\")\n",
    "\n",
    "procesar_dataframe(dataframe)\n"
   ]
  }
 ],
 "metadata": {
  "kernelspec": {
   "display_name": "Python 3",
   "language": "python",
   "name": "python3"
  },
  "language_info": {
   "codemirror_mode": {
    "name": "ipython",
    "version": 3
   },
   "file_extension": ".py",
   "mimetype": "text/x-python",
   "name": "python",
   "nbconvert_exporter": "python",
   "pygments_lexer": "ipython3",
   "version": "3.11.4"
  }
 },
 "nbformat": 4,
 "nbformat_minor": 2
}
