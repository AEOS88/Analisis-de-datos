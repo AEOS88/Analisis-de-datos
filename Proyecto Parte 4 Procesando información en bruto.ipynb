{
 "cells": [
  {
   "cell_type": "code",
   "execution_count": 1,
   "metadata": {},
   "outputs": [],
   "source": [
    "import requests"
   ]
  },
  {
   "cell_type": "code",
   "execution_count": 1,
   "metadata": {},
   "outputs": [
    {
     "name": "stdout",
     "output_type": "stream",
     "text": [
      "Datos descargados exitosamente como heart_failure_dataset.csv\n"
     ]
    }
   ],
   "source": [
    "import requests\n",
    "\n",
    "# URL de los datos\n",
    "url_datos = \"https://huggingface.co/datasets/mstz/heart_failure/raw/main/heart_failure_clinical_records_dataset.csv\"\n",
    "\n",
    "def descargar_y_guardar_csv(url, nombre_archivo):\n",
    "    # Realizar el GET request\n",
    "    respuesta = requests.get(url)\n",
    "\n",
    "    # Verificar si la descarga fue exitosa (código de estado 200)\n",
    "    if respuesta.status_code == 200:\n",
    "        # Escribir la respuesta en un archivo CSV\n",
    "        with open(nombre_archivo, 'w', encoding='utf-8') as archivo:\n",
    "            archivo.write(respuesta.text)\n",
    "        print(f\"Datos descargados exitosamente como {nombre_archivo}\")\n",
    "    else:\n",
    "        print(f\"Error al descargar los datos. Código de estado: {respuesta.status_code}\")\n",
    "\n",
    "\n",
    "# Llamar a la función para descargar los datos\n",
    "descargar_y_guardar_csv(url_datos, \"heart_failure_dataset.csv\")\n"
   ]
  }
 ],
 "metadata": {
  "kernelspec": {
   "display_name": "Python 3",
   "language": "python",
   "name": "python3"
  },
  "language_info": {
   "codemirror_mode": {
    "name": "ipython",
    "version": 3
   },
   "file_extension": ".py",
   "mimetype": "text/x-python",
   "name": "python",
   "nbconvert_exporter": "python",
   "pygments_lexer": "ipython3",
   "version": "3.11.4"
  }
 },
 "nbformat": 4,
 "nbformat_minor": 2
}
