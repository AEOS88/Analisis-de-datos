{
 "cells": [
  {
   "cell_type": "code",
   "execution_count": 8,
   "metadata": {},
   "outputs": [],
   "source": [
    "import pandas as pd\n",
    "import requests\n",
    "import sqlite3\n",
    "from typing import Set"
   ]
  },
  {
   "cell_type": "markdown",
   "metadata": {},
   "source": [
    "# Cargando los datos de la db"
   ]
  },
  {
   "cell_type": "code",
   "execution_count": 9,
   "metadata": {},
   "outputs": [],
   "source": [
    "def ej_1_cargar_datos_demograficos() -> pd.DataFrame:\n",
    "    ruta_archivo_demograficos = 'us-cities-demographics.csv'\n",
    "    datos_demograficos = pd.read_csv(ruta_archivo_demograficos, delimiter=';')\n",
    "    return datos_demograficos"
   ]
  },
  {
   "cell_type": "markdown",
   "metadata": {},
   "source": [
    "# Parseando datos de calidad de aire por ciudad"
   ]
  },
  {
   "cell_type": "code",
   "execution_count": 10,
   "metadata": {},
   "outputs": [],
   "source": [
    "def obtener_calidad_aire(ciudad, estado):\n",
    "    url_api_calidad_aire = 'https://api-ninjas.com/api/airquality'\n",
    "    parametros = {'city': ciudad, 'state': estado}\n",
    "    respuesta = requests.get(url_api_calidad_aire, params=parametros)\n",
    "\n",
    "    if respuesta.status_code == 200:\n",
    "        datos_calidad_aire = respuesta.json()\n",
    "        concentracion = datos_calidad_aire.get('concentration', None)\n",
    "        return concentracion\n",
    "    else:\n",
    "        return None\n",
    "\n",
    "def ej_2_cargar_calidad_aire(ciudades: Set[str]) -> None:\n",
    "    datos_demograficos = ej_1_cargar_datos_demograficos()\n",
    "    datos_demograficos['concentration_air_quality'] = datos_demograficos.apply(\n",
    "        lambda row: obtener_calidad_aire(row['City'], row['State']) if row['City'] in ciudades else None, \n",
    "        axis=1\n",
    "    )\n",
    "    tabla_calidad_aire = datos_demograficos[['City', 'State', 'concentration_air_quality']]\n",
    "    tabla_calidad_aire.to_csv('tabla_calidad_aire.csv', index=False)\n"
   ]
  },
  {
   "cell_type": "markdown",
   "metadata": {},
   "source": [
    "# Limpieza de datos demográficos"
   ]
  },
  {
   "cell_type": "code",
   "execution_count": 11,
   "metadata": {},
   "outputs": [],
   "source": [
    "def ej_3_limpiar_datos_demograficos(datos_demograficos: pd.DataFrame) -> pd.DataFrame:\n",
    "    # Eliminar columnas\n",
    "    datos_demograficos = datos_demograficos.drop(['Race', 'Count', 'Number of Veterans'], axis=1)\n",
    "    \n",
    "    # Eliminar filas duplicadas\n",
    "    datos_demograficos = datos_demograficos.drop_duplicates()\n",
    "    \n",
    "    return datos_demograficos"
   ]
  },
  {
   "cell_type": "markdown",
   "metadata": {},
   "source": [
    "#  Crear base de datos SQLite y cargar las tablas"
   ]
  },
  {
   "cell_type": "code",
   "execution_count": 12,
   "metadata": {},
   "outputs": [],
   "source": [
    "def ej_4_crear_base_de_datos(datos_demograficos: pd.DataFrame, tabla_calidad_aire: pd.DataFrame) -> None:\n",
    "    conn = sqlite3.connect('demografia_calidad_aire.db')\n",
    "    datos_demograficos.to_sql('demografia', conn, index=False, if_exists='replace')\n",
    "    tabla_calidad_aire.to_sql('calidad_aire', conn, index=False, if_exists='replace')\n",
    "    conn.close()"
   ]
  },
  {
   "cell_type": "markdown",
   "metadata": {},
   "source": [
    "# Aplicar joins y agregaciones"
   ]
  },
  {
   "cell_type": "code",
   "execution_count": 13,
   "metadata": {},
   "outputs": [],
   "source": [
    "def ej_5_verificar_calidad_aire(ciudades_mas_pobladas: int) -> pd.DataFrame:\n",
    "    conn = sqlite3.connect('demografia_calidad_aire.db')\n",
    "\n",
    "    # Realizar join entre las dos tablas\n",
    "    query = f'''\n",
    "    SELECT d.City, d.State, d.TotalPopulation, ca.concentration_air_quality\n",
    "    FROM demografia d\n",
    "    LEFT JOIN calidad_aire ca ON d.City = ca.City AND d.State = ca.State\n",
    "    ORDER BY d.TotalPopulation DESC\n",
    "    LIMIT {ciudades_mas_pobladas}\n",
    "    '''\n",
    "    resultado = pd.read_sql_query(query, conn)\n",
    "\n",
    "    # Mostrar las primeras 10 columnas\n",
    "    resultado = resultado.iloc[:, :10]\n",
    "\n",
    "    conn.close()\n",
    "\n",
    "    return resultado\n"
   ]
  }
 ],
 "metadata": {
  "kernelspec": {
   "display_name": "Python 3",
   "language": "python",
   "name": "python3"
  },
  "language_info": {
   "codemirror_mode": {
    "name": "ipython",
    "version": 3
   },
   "file_extension": ".py",
   "mimetype": "text/x-python",
   "name": "python",
   "nbconvert_exporter": "python",
   "pygments_lexer": "ipython3",
   "version": "3.11.4"
  }
 },
 "nbformat": 4,
 "nbformat_minor": 2
}
